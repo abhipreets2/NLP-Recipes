{
 "cells": [
  {
   "cell_type": "code",
   "execution_count": 1,
   "metadata": {},
   "outputs": [],
   "source": [
    "import collections\n",
    "import matplotlib.pyplot as plt\n",
    "import numpy as np\n",
    "import pandas as pd\n",
    "import spacy\n",
    "import tensorflow as tf\n",
    "\n",
    "from gensim.models.keyedvectors import KeyedVectors\n",
    "from sklearn.decomposition import PCA\n",
    "from sklearn.model_selection import train_test_split\n",
    "from tensorflow import keras\n",
    "from tensorflow.keras import layers"
   ]
  },
  {
   "cell_type": "code",
   "execution_count": 23,
   "metadata": {},
   "outputs": [],
   "source": [
    "embedding_file = './data/GoogleNews-vectors-negative300.bin.gz'"
   ]
  },
  {
   "cell_type": "code",
   "execution_count": 5,
   "metadata": {},
   "outputs": [
    {
     "name": "stdout",
     "output_type": "stream",
     "text": [
      "CPU times: total: 3.2 s\n",
      "Wall time: 3.22 s\n"
     ]
    }
   ],
   "source": [
    "%%time\n",
    "word_vectors = KeyedVectors.load_word2vec_format(embedding_file, binary=True, limit=200000)"
   ]
  },
  {
   "cell_type": "code",
   "execution_count": 6,
   "metadata": {},
   "outputs": [
    {
     "name": "stdout",
     "output_type": "stream",
     "text": [
      "Vector dimension: (300,)\n",
      "[-1.25976562e-01  2.53906250e-02  1.66992188e-01  5.50781250e-01\n",
      " -7.66601562e-02  1.28906250e-01  1.02539062e-01 -3.94821167e-04\n",
      "  1.21582031e-01  4.32128906e-02  1.72851562e-01 -6.83593750e-02\n",
      "  3.41796875e-01  8.39843750e-02  6.68945312e-02  2.67578125e-01\n",
      " -3.71093750e-02 -5.56640625e-02  1.80664062e-01  1.90429688e-02\n",
      " -5.07812500e-02  9.03320312e-03  1.76757812e-01  6.49414062e-02\n",
      " -6.25000000e-02 -9.42382812e-02 -9.71679688e-02  4.00390625e-01\n",
      "  1.15234375e-01  1.02539062e-01 -1.86767578e-02 -2.69531250e-01\n",
      "  1.80664062e-01  1.25000000e-01 -3.17382812e-02 -5.49316406e-02\n",
      "  3.45703125e-01 -1.57470703e-02  1.82390213e-05  2.07031250e-01\n",
      " -1.25976562e-01 -2.83203125e-01  2.00195312e-01  8.34960938e-02\n",
      " -4.73632812e-02 -3.11279297e-02 -2.61718750e-01  1.69921875e-01\n",
      " -2.02636719e-02  1.53320312e-01 -1.20605469e-01  3.75000000e-01\n",
      " -5.68847656e-02 -4.76074219e-03 -1.95312500e-01 -2.03125000e-01\n",
      "  3.00781250e-01 -1.01074219e-01 -3.18359375e-01 -9.03320312e-02\n",
      " -1.19140625e-01  1.95312500e-01 -8.78906250e-02  1.58203125e-01\n",
      "  1.51977539e-02 -1.60156250e-01 -3.30078125e-01 -4.66796875e-01\n",
      "  1.68945312e-01  2.23388672e-02  1.55273438e-01  1.08398438e-01\n",
      " -3.56445312e-02  9.13085938e-02 -8.69140625e-02 -1.20117188e-01\n",
      " -3.08593750e-01 -2.61230469e-02 -7.22656250e-02 -4.80468750e-01\n",
      "  3.78417969e-02 -1.35742188e-01 -1.02539062e-01 -2.91015625e-01\n",
      " -1.93359375e-01 -4.21875000e-01 -1.06445312e-01  3.55468750e-01\n",
      "  1.66992188e-01 -3.63159180e-03 -7.42187500e-02 -3.22265625e-01\n",
      " -7.51953125e-02 -8.25195312e-02 -2.91015625e-01 -1.25976562e-01\n",
      "  1.68457031e-02  5.00488281e-02  1.27929688e-01 -7.42187500e-02\n",
      " -1.30859375e-01 -2.46093750e-01  6.49414062e-02  1.53320312e-01\n",
      "  2.59765625e-01 -1.05468750e-01  3.57421875e-01 -4.29687500e-02\n",
      " -1.58203125e-01  8.20312500e-02 -5.98144531e-02 -2.34375000e-01\n",
      " -3.22265625e-01 -1.25976562e-01  5.39550781e-02 -1.87500000e-01\n",
      "  1.35742188e-01 -6.59179688e-02  8.36181641e-03 -1.84570312e-01\n",
      " -2.96875000e-01 -1.84570312e-01 -4.73632812e-02 -1.06445312e-01\n",
      " -6.93359375e-02  3.83300781e-02 -3.19824219e-02  3.63769531e-02\n",
      " -1.20117188e-01  1.76757812e-01 -1.15722656e-01  1.98974609e-02\n",
      "  8.64257812e-02  6.07910156e-02 -1.40625000e-01  3.30078125e-01\n",
      "  1.94335938e-01 -1.56250000e-01  3.92578125e-01  1.80816650e-03\n",
      "  7.27539062e-02 -2.53906250e-01 -3.54003906e-02  2.86865234e-03\n",
      " -1.72851562e-01  9.76562500e-03 -1.55639648e-02  3.23486328e-03\n",
      " -1.69921875e-01  1.55273438e-01  7.17773438e-02  4.10156250e-01\n",
      " -2.10937500e-01  1.31835938e-01  7.62939453e-03  4.78515625e-02\n",
      " -4.54101562e-02  7.32421875e-02 -4.06250000e-01 -2.06298828e-02\n",
      " -4.04296875e-01 -1.00585938e-01 -2.03125000e-01  1.55273438e-01\n",
      " -1.89453125e-01  6.59179688e-02  6.54296875e-02 -2.05078125e-01\n",
      "  5.46875000e-02 -3.06396484e-02 -1.54296875e-01 -2.61718750e-01\n",
      "  3.81469727e-03 -8.20312500e-02 -3.20312500e-01  2.84423828e-02\n",
      "  2.69531250e-01  1.73828125e-01 -1.66992188e-01  2.22656250e-01\n",
      "  6.34765625e-02 -1.96289062e-01  1.45507812e-01 -1.56250000e-02\n",
      "  2.60009766e-02 -6.29882812e-02  2.94189453e-02  3.28125000e-01\n",
      " -4.68750000e-02 -1.52343750e-01  6.98242188e-02  3.18359375e-01\n",
      " -1.08398438e-01  3.66210938e-02 -1.99218750e-01  1.64031982e-03\n",
      "  6.40869141e-03 -1.47460938e-01 -6.25000000e-02 -4.36401367e-03\n",
      " -2.75390625e-01  8.54492188e-02 -5.00488281e-02 -3.12500000e-01\n",
      " -1.33789062e-01 -1.99218750e-01  5.17578125e-02 -9.27734375e-02\n",
      " -2.40234375e-01 -7.86132812e-02 -1.54296875e-01 -6.64062500e-02\n",
      " -1.97265625e-01  1.76757812e-01 -1.57226562e-01 -1.63085938e-01\n",
      "  6.00585938e-02 -5.85937500e-02 -2.22656250e-01 -6.59179688e-02\n",
      " -9.37500000e-02 -4.14062500e-01  2.55859375e-01 -1.76757812e-01\n",
      "  2.51953125e-01  1.48437500e-01 -1.04492188e-01 -8.60595703e-03\n",
      " -1.22558594e-01 -9.22851562e-02  4.41894531e-02 -1.70898438e-01\n",
      " -1.98242188e-01  1.92382812e-01  2.85156250e-01 -4.34570312e-02\n",
      "  1.08398438e-01 -5.37109375e-02 -2.09960938e-02  1.46484375e-01\n",
      "  3.82812500e-01  2.31933594e-02 -8.83789062e-02  7.32421875e-02\n",
      " -1.01074219e-01 -1.06445312e-01  4.12109375e-01  2.10937500e-01\n",
      "  2.79296875e-01 -2.08740234e-02  2.07031250e-01  9.81445312e-02\n",
      "  2.39257812e-01  7.66601562e-02  2.02148438e-01 -6.07910156e-02\n",
      " -2.63977051e-03 -1.83593750e-01 -1.57470703e-02 -3.20312500e-01\n",
      "  9.03320312e-02  1.02050781e-01 -4.96093750e-01 -9.71679688e-02\n",
      " -8.10546875e-02 -1.80664062e-01 -1.45507812e-01  8.64257812e-02\n",
      " -2.04101562e-01 -2.02148438e-01 -5.46875000e-02  2.53906250e-01\n",
      "  2.08740234e-02 -1.15722656e-01  2.02148438e-01 -8.05664062e-02\n",
      " -1.04980469e-01 -7.95898438e-02  1.96533203e-02 -2.49023438e-01\n",
      "  1.30859375e-01  2.89062500e-01 -2.25585938e-01  4.55078125e-01\n",
      " -2.73437500e-01 -2.57812500e-01 -3.14941406e-02  4.04296875e-01\n",
      " -2.67578125e-01  2.89062500e-01 -1.83593750e-01 -1.48437500e-01\n",
      " -1.06933594e-01  1.27929688e-01  5.46875000e-01 -8.69140625e-02\n",
      " -1.48315430e-02  6.98242188e-02 -8.49609375e-02 -1.55273438e-01]\n"
     ]
    }
   ],
   "source": [
    "pizza = word_vectors['pizza']\n",
    "print(f'Vector dimension: {pizza.shape}')\n",
    "\n",
    "print(pizza)"
   ]
  },
  {
   "cell_type": "code",
   "execution_count": 8,
   "metadata": {},
   "outputs": [
    {
     "name": "stdout",
     "output_type": "stream",
     "text": [
      "0.35505623\n",
      "0.36959887\n",
      "0.47083578\n"
     ]
    }
   ],
   "source": [
    "print(word_vectors.similarity('pizza', 'tomato'))\n",
    "print(word_vectors.similarity('pizza', 'sauce'))\n",
    "print(word_vectors.similarity('pizza', 'cheese'))"
   ]
  },
  {
   "cell_type": "code",
   "execution_count": 9,
   "metadata": {},
   "outputs": [
    {
     "name": "stdout",
     "output_type": "stream",
     "text": [
      "0.108518735\n",
      "0.11185601\n",
      "0.14119941\n"
     ]
    }
   ],
   "source": [
    "print(word_vectors.similarity('pizza', 'gorilla'))\n",
    "print(word_vectors.similarity('pizza', 'tree'))\n",
    "print(word_vectors.similarity('pizza', 'yoga'))"
   ]
  },
  {
   "cell_type": "code",
   "execution_count": 10,
   "metadata": {},
   "outputs": [
    {
     "data": {
      "text/plain": [
       "0.5314661"
      ]
     },
     "execution_count": 10,
     "metadata": {},
     "output_type": "execute_result"
    }
   ],
   "source": [
    "word_vectors.n_similarity(\"dog bites man\".split(), \"canine nips human\".split())"
   ]
  },
  {
   "cell_type": "code",
   "execution_count": 11,
   "metadata": {},
   "outputs": [
    {
     "data": {
      "text/plain": [
       "0.14505777"
      ]
     },
     "execution_count": 11,
     "metadata": {},
     "output_type": "execute_result"
    }
   ],
   "source": [
    "word_vectors.n_similarity(\"martian dolphins are hostile\".split(), \"i flunked calligraphy school\".split())"
   ]
  },
  {
   "cell_type": "markdown",
   "metadata": {},
   "source": [
    "The downside to this approach is that the word order is throw out as seen in the example below"
   ]
  },
  {
   "cell_type": "code",
   "execution_count": 12,
   "metadata": {},
   "outputs": [
    {
     "data": {
      "text/plain": [
       "1.0"
      ]
     },
     "execution_count": 12,
     "metadata": {},
     "output_type": "execute_result"
    }
   ],
   "source": [
    "word_vectors.n_similarity(\"dog bites man\".split(), \"man bites dog\".split())"
   ]
  },
  {
   "cell_type": "code",
   "execution_count": 13,
   "metadata": {},
   "outputs": [
    {
     "data": {
      "text/plain": [
       "0.52682734"
      ]
     },
     "execution_count": 13,
     "metadata": {},
     "output_type": "execute_result"
    }
   ],
   "source": [
    "s1 = \"Volkswagen intends to double electric car sales in China\".lower().split()\n",
    "s2 = \"First Toyota with solid state battery will be hybrid\".lower().split()\n",
    "word_vectors.n_similarity(s1, s2)"
   ]
  },
  {
   "cell_type": "code",
   "execution_count": 14,
   "metadata": {},
   "outputs": [
    {
     "data": {
      "text/plain": [
       "[('cells', 0.8180485367774963),\n",
       " ('Cells', 0.6146953105926514),\n",
       " ('Cell', 0.5321314930915833),\n",
       " ('cellular', 0.5272858142852783),\n",
       " ('tumor_cells', 0.5097643136978149),\n",
       " ('ES_cells', 0.4866572618484497),\n",
       " ('immune_cells', 0.4831920266151428),\n",
       " ('epithelial_cells', 0.47818055748939514),\n",
       " ('molecule', 0.47757473587989807),\n",
       " ('proteins', 0.4749472737312317)]"
      ]
     },
     "execution_count": 14,
     "metadata": {},
     "output_type": "execute_result"
    }
   ],
   "source": [
    "word_vectors.most_similar(positive=['cell'], topn=10)"
   ]
  },
  {
   "cell_type": "code",
   "execution_count": 15,
   "metadata": {},
   "outputs": [
    {
     "data": {
      "text/plain": [
       "[('cell_phone', 0.6861391067504883),\n",
       " ('cellular', 0.6757438778877258),\n",
       " ('cellphone', 0.6633196473121643),\n",
       " ('telephone', 0.6474039554595947),\n",
       " ('Phone', 0.605189323425293),\n",
       " ('phones', 0.5896332859992981),\n",
       " ('cells', 0.585094690322876),\n",
       " ('cordless_phone', 0.5711769461631775),\n",
       " ('Cell', 0.5617641806602478),\n",
       " ('landline', 0.5467296242713928)]"
      ]
     },
     "execution_count": 15,
     "metadata": {},
     "output_type": "execute_result"
    }
   ],
   "source": [
    "word_vectors.most_similar(positive=['cell', 'phone'], topn=10)"
   ]
  },
  {
   "cell_type": "code",
   "execution_count": 16,
   "metadata": {},
   "outputs": [
    {
     "data": {
      "text/plain": [
       "'hamburger'"
      ]
     },
     "execution_count": 16,
     "metadata": {},
     "output_type": "execute_result"
    }
   ],
   "source": [
    "#This will pick out the word which seems to be odd\n",
    "word_vectors.doesnt_match([\"apple\", \"orange\", \"hamburger\", \"banana\", \"kiwi\"])"
   ]
  },
  {
   "cell_type": "code",
   "execution_count": 17,
   "metadata": {},
   "outputs": [
    {
     "data": {
      "text/plain": [
       "'Toyota'"
      ]
     },
     "execution_count": 17,
     "metadata": {},
     "output_type": "execute_result"
    }
   ],
   "source": [
    "word_vectors.doesnt_match([\"Microsoft\", \"Apple\", \"Toyota\", \"Amazon\", \"Netflix\", \"Google\"])"
   ]
  },
  {
   "cell_type": "code",
   "execution_count": 18,
   "metadata": {},
   "outputs": [],
   "source": [
    "# To visualize word embedding we will be using PCA this will enable us to convert 300 dimension into 2 dimension and visualize it\n",
    "def display_pca_scatterplot(model, words):\n",
    "\n",
    "    word_vectors = np.array([model[w] for w in words])\n",
    "    twodim = PCA().fit_transform(word_vectors)[:,:2]\n",
    "\n",
    "    plt.figure(figsize=(10,10))\n",
    "    plt.scatter(twodim[:,0] , twodim[:,1], edgecolors='k', c='r', s=128)\n",
    "    for word, (x,y) in zip(words, twodim):\n",
    "        plt.text(x+0.05, y+0.05, word)"
   ]
  },
  {
   "cell_type": "code",
   "execution_count": 19,
   "metadata": {},
   "outputs": [
    {
     "data": {
      "image/png": "[encoded data removed]",
      "text/plain": [
       "<Figure size 720x720 with 1 Axes>"
      ]
     },
     "metadata": {
      "needs_background": "light"
     },
     "output_type": "display_data"
    }
   ],
   "source": [
    "display_pca_scatterplot(word_vectors, ['swim', 'swimming', 'cat', 'dog', 'feline', 'road', 'car', 'bus'])"
   ]
  },
  {
   "cell_type": "markdown",
   "metadata": {},
   "source": [
    "We can even solve analogies (to a limited extent) with vector arithmetic.<br><br>\n",
    "Here, we're solving the analogy:<br>\n",
    "Rome is to Italy as London is to __________.<br><br>\n",
    "Arithmetically, this is Italy + London - Rome.\n"
   ]
  },
  {
   "cell_type": "code",
   "execution_count": 20,
   "metadata": {},
   "outputs": [
    {
     "data": {
      "text/plain": [
       "[('UK', 0.6230568885803223),\n",
       " ('Britain', 0.6016390323638916),\n",
       " ('United_Kingdom', 0.534345805644989)]"
      ]
     },
     "execution_count": 20,
     "metadata": {},
     "output_type": "execute_result"
    }
   ],
   "source": [
    "word_vectors.most_similar(positive=['Italy', 'London'], negative=['Rome'], topn=3)"
   ]
  },
  {
   "cell_type": "code",
   "execution_count": 21,
   "metadata": {},
   "outputs": [
    {
     "data": {
      "image/png": "[encoded data removed]",
      "text/plain": [
       "<Figure size 720x720 with 1 Axes>"
      ]
     },
     "metadata": {
      "needs_background": "light"
     },
     "output_type": "display_data"
    }
   ],
   "source": [
    "display_pca_scatterplot(word_vectors, ['Rome', 'Italy', 'London', 'Britain', 'UK'])"
   ]
  },
  {
   "cell_type": "code",
   "execution_count": 24,
   "metadata": {},
   "outputs": [
    {
     "name": "stdout",
     "output_type": "stream",
     "text": [
      "CPU times: total: 16 s\n",
      "Wall time: 16 s\n"
     ]
    }
   ],
   "source": [
    "%%time\n",
    "word_vectors = KeyedVectors.load_word2vec_format(embedding_file, binary=True, limit=1000000)"
   ]
  },
  {
   "cell_type": "code",
   "execution_count": 25,
   "metadata": {},
   "outputs": [
    {
     "name": "stdout",
     "output_type": "stream",
     "text": [
      "(560000, 2)\n"
     ]
    }
   ],
   "source": [
    "yelp_train = pd.read_csv('./data/yelp_review_polarity_csv/train.csv', names=['sentiment', 'review'])\n",
    "print(yelp_train.shape)"
   ]
  },
  {
   "cell_type": "code",
   "execution_count": 26,
   "metadata": {},
   "outputs": [
    {
     "data": {
      "text/html": [
       "<div>\n",
       "<style scoped>\n",
       "    .dataframe tbody tr th:only-of-type {\n",
       "        vertical-align: middle;\n",
       "    }\n",
       "\n",
       "    .dataframe tbody tr th {\n",
       "        vertical-align: top;\n",
       "    }\n",
       "\n",
       "    .dataframe thead th {\n",
       "        text-align: right;\n",
       "    }\n",
       "</style>\n",
       "<table border=\"1\" class=\"dataframe\">\n",
       "  <thead>\n",
       "    <tr style=\"text-align: right;\">\n",
       "      <th></th>\n",
       "      <th>sentiment</th>\n",
       "      <th>review</th>\n",
       "    </tr>\n",
       "  </thead>\n",
       "  <tbody>\n",
       "    <tr>\n",
       "      <th>0</th>\n",
       "      <td>1</td>\n",
       "      <td>Unfortunately, the frustration of being Dr. Go...</td>\n",
       "    </tr>\n",
       "    <tr>\n",
       "      <th>1</th>\n",
       "      <td>2</td>\n",
       "      <td>Been going to Dr. Goldberg for over 10 years. ...</td>\n",
       "    </tr>\n",
       "    <tr>\n",
       "      <th>2</th>\n",
       "      <td>1</td>\n",
       "      <td>I don't know what Dr. Goldberg was like before...</td>\n",
       "    </tr>\n",
       "    <tr>\n",
       "      <th>3</th>\n",
       "      <td>1</td>\n",
       "      <td>I'm writing this review to give you a heads up...</td>\n",
       "    </tr>\n",
       "    <tr>\n",
       "      <th>4</th>\n",
       "      <td>2</td>\n",
       "      <td>All the food is great here. But the best thing...</td>\n",
       "    </tr>\n",
       "  </tbody>\n",
       "</table>\n",
       "</div>"
      ],
      "text/plain": [
       "   sentiment                                             review\n",
       "0          1  Unfortunately, the frustration of being Dr. Go...\n",
       "1          2  Been going to Dr. Goldberg for over 10 years. ...\n",
       "2          1  I don't know what Dr. Goldberg was like before...\n",
       "3          1  I'm writing this review to give you a heads up...\n",
       "4          2  All the food is great here. But the best thing..."
      ]
     },
     "execution_count": 26,
     "metadata": {},
     "output_type": "execute_result"
    }
   ],
   "source": [
    "yelp_train.head()"
   ]
  },
  {
   "cell_type": "code",
   "execution_count": 27,
   "metadata": {},
   "outputs": [
    {
     "name": "stdout",
     "output_type": "stream",
     "text": [
      "(100000, 2)\n"
     ]
    }
   ],
   "source": [
    "TRAIN_SIZE = 100000\n",
    "yelp_train = yelp_train.sample(frac=1, random_state=1)[:TRAIN_SIZE].copy()\n",
    "print(yelp_train.shape)"
   ]
  },
  {
   "cell_type": "code",
   "execution_count": 28,
   "metadata": {},
   "outputs": [],
   "source": [
    "yelp_train['sentiment'].replace(to_replace=1, value=0, inplace=True)\n",
    "yelp_train['sentiment'].replace(to_replace=2, value=1, inplace=True)"
   ]
  },
  {
   "cell_type": "code",
   "execution_count": 29,
   "metadata": {},
   "outputs": [
    {
     "data": {
      "text/html": [
       "<div>\n",
       "<style scoped>\n",
       "    .dataframe tbody tr th:only-of-type {\n",
       "        vertical-align: middle;\n",
       "    }\n",
       "\n",
       "    .dataframe tbody tr th {\n",
       "        vertical-align: top;\n",
       "    }\n",
       "\n",
       "    .dataframe thead th {\n",
       "        text-align: right;\n",
       "    }\n",
       "</style>\n",
       "<table border=\"1\" class=\"dataframe\">\n",
       "  <thead>\n",
       "    <tr style=\"text-align: right;\">\n",
       "      <th></th>\n",
       "      <th>sentiment</th>\n",
       "      <th>review</th>\n",
       "    </tr>\n",
       "  </thead>\n",
       "  <tbody>\n",
       "    <tr>\n",
       "      <th>39658</th>\n",
       "      <td>1</td>\n",
       "      <td>omg, the grandma g's pizza with rosemary chick...</td>\n",
       "    </tr>\n",
       "    <tr>\n",
       "      <th>330033</th>\n",
       "      <td>0</td>\n",
       "      <td>Microwaved food over over over seasoned gyro m...</td>\n",
       "    </tr>\n",
       "    <tr>\n",
       "      <th>238898</th>\n",
       "      <td>0</td>\n",
       "      <td>While the food is good, the service leaves a l...</td>\n",
       "    </tr>\n",
       "    <tr>\n",
       "      <th>453536</th>\n",
       "      <td>0</td>\n",
       "      <td>Called the Chandler PD about the sign spinner ...</td>\n",
       "    </tr>\n",
       "    <tr>\n",
       "      <th>555973</th>\n",
       "      <td>1</td>\n",
       "      <td>Just took Ewok, my approx. 6 month old shih tz...</td>\n",
       "    </tr>\n",
       "  </tbody>\n",
       "</table>\n",
       "</div>"
      ],
      "text/plain": [
       "        sentiment                                             review\n",
       "39658           1  omg, the grandma g's pizza with rosemary chick...\n",
       "330033          0  Microwaved food over over over seasoned gyro m...\n",
       "238898          0  While the food is good, the service leaves a l...\n",
       "453536          0  Called the Chandler PD about the sign spinner ...\n",
       "555973          1  Just took Ewok, my approx. 6 month old shih tz..."
      ]
     },
     "execution_count": 29,
     "metadata": {},
     "output_type": "execute_result"
    }
   ],
   "source": [
    "yelp_train.head()"
   ]
  },
  {
   "cell_type": "code",
   "execution_count": 30,
   "metadata": {},
   "outputs": [],
   "source": [
    "yelp_train_split, yelp_val_split = train_test_split(yelp_train, train_size=0.85, random_state=1)"
   ]
  },
  {
   "cell_type": "code",
   "execution_count": 31,
   "metadata": {},
   "outputs": [],
   "source": [
    "train_reviews = yelp_train_split['review']\n",
    "y_train = np.array(yelp_train_split['sentiment'])\n",
    "\n",
    "val_reviews = yelp_val_split['review']\n",
    "y_val = np.array(yelp_val_split['sentiment'])"
   ]
  },
  {
   "cell_type": "code",
   "execution_count": 32,
   "metadata": {},
   "outputs": [
    {
     "data": {
      "text/plain": [
       "array([0, 1, 1, ..., 1, 0, 0], dtype=int64)"
      ]
     },
     "execution_count": 32,
     "metadata": {},
     "output_type": "execute_result"
    }
   ],
   "source": []
  },
  {
   "cell_type": "code",
   "execution_count": 34,
   "metadata": {},
   "outputs": [
    {
     "data": {
      "text/plain": [
       "Counter({0: 42395, 1: 42605})"
      ]
     },
     "execution_count": 34,
     "metadata": {},
     "output_type": "execute_result"
    }
   ],
   "source": [
    "# Checking if our dataset is balanced or not\n",
    "collections.Counter(y_train)"
   ]
  },
  {
   "cell_type": "code",
   "execution_count": 35,
   "metadata": {},
   "outputs": [],
   "source": [
    "tokenizer = keras.preprocessing.text.Tokenizer(num_words=20000,\n",
    "                                               filters='0123456789!\"#$%&()*+,-./:;<=>?@[\\]^_`{|}~',\n",
    "                                               lower=True)"
   ]
  },
  {
   "cell_type": "code",
   "execution_count": 36,
   "metadata": {},
   "outputs": [
    {
     "name": "stdout",
     "output_type": "stream",
     "text": [
      "CPU times: total: 7.64 s\n",
      "Wall time: 7.63 s\n"
     ]
    }
   ],
   "source": [
    "%%time\n",
    "tokenizer.fit_on_texts(train_reviews)"
   ]
  },
  {
   "cell_type": "code",
   "execution_count": 37,
   "metadata": {},
   "outputs": [
    {
     "name": "stdout",
     "output_type": "stream",
     "text": [
      "CPU times: total: 4.84 s\n",
      "Wall time: 4.83 s\n"
     ]
    }
   ],
   "source": [
    "%%time\n",
    "X_train = tokenizer.texts_to_sequences(train_reviews)"
   ]
  },
  {
   "cell_type": "code",
   "execution_count": 38,
   "metadata": {},
   "outputs": [
    {
     "name": "stdout",
     "output_type": "stream",
     "text": [
      "[49, 14, 2224, 4199, 1981, 11, 2312, 16, 6, 59, 3042, 138, 5, 145, 1, 294, 1, 378, 370, 7, 8, 37, 6, 1, 120, 944, 16362, 1026, 33, 3014, 21, 1170, 12144, 3036, 1427, 5513, 56, 3214, 2, 106, 5514, 136, 886, 1, 2224, 268, 3, 90, 22, 1278, 944, 16362, 51, 183, 36, 60, 107, 3214, 9, 14, 795, 26, 351, 3, 148, 5, 150, 107, 65, 12, 47, 74, 1966, 1935, 42, 7, 1, 132, 5352, 24, 1918, 36, 5481, 21, 1, 11637, 1378, 1116, 6722, 13, 64, 262, 19603, 2, 312, 4, 1253, 3278, 5, 14, 362, 116, 6, 10, 1, 128, 271, 137, 2100, 7, 16, 14, 362, 2, 3, 148, 4, 156, 1694, 1047, 17, 147, 86, 323, 598, 1, 1103, 207, 1055, 51, 544, 783, 21, 1, 3872, 15, 26, 147, 17728, 2, 27, 148, 39, 15, 102, 993, 18, 1, 1364, 55, 1, 6722, 5481, 2, 60, 39, 249, 102, 30, 282, 8, 161, 4, 43, 189, 46, 9, 944, 16362, 5, 1338, 65, 10, 674, 3, 102, 598, 2, 47, 64, 90, 279, 48, 64, 86, 124, 174, 1, 128, 18, 4, 545, 303, 1072, 13078, 12751, 17, 18, 1, 766, 13, 14, 362, 2, 3, 24, 282, 172, 360, 10, 815, 9, 107, 3, 78, 113, 39, 1, 5352, 24, 68, 4628, 51, 2968, 13, 15, 86, 598, 1, 1103, 2, 99, 79, 944, 16362, 888, 48, 288, 1, 2348, 10, 65, 19, 5274, 41, 1317, 5, 150, 1, 1364, 17, 47, 944, 16362, 299, 90, 1338, 15, 26, 137, 5, 240, 38, 1453, 116, 24, 282, 172, 360, 2, 26, 165, 10, 1966, 9, 8, 32, 6, 57, 889, 8276, 57, 12145, 35, 5, 118, 3, 6, 792, 22, 73, 4, 1318, 40, 4, 18584, 64, 148, 238, 38, 20, 1559, 59, 9752, 6722, 12, 13, 1388, 2, 47, 15, 215, 5, 1243, 64, 6032, 6723, 107, 2636, 2, 6842, 12, 13, 1388, 15, 975, 13, 10, 489, 57, 8, 6, 22, 1388, 42, 7, 1, 5352, 24, 628, 5, 561, 1, 6722, 9, 14, 104, 5, 150, 1512, 13, 24, 134, 4343, 21, 1, 6722, 2, 13, 12, 60, 15, 24, 4273, 15, 26, 565, 2, 1290, 5, 2193, 5, 59, 9752, 6722, 39, 1, 448, 18585, 944, 16362, 99, 14, 362, 9, 73, 222, 25, 1, 6722, 3344, 10, 7655, 7, 1, 489, 13, 8, 6, 42, 7, 1, 5352, 116, 2663, 399, 175, 845, 5, 8, 944, 16362, 137, 8, 1096, 5, 67, 13, 1, 9595, 28, 22, 9, 20, 1, 1737, 5, 655, 20, 78, 113, 118, 5, 655, 77, 8, 817, 266, 7, 1462, 5, 1916, 118, 5, 655, 250, 9595, 1462, 20, 78, 23, 2, 73, 39, 20, 26, 2956, 19, 53, 147, 30, 1248, 5, 655, 3, 547, 718, 7, 250, 515, 24, 9595, 544, 2, 271, 15, 79, 533, 13, 15755, 944, 16362, 137, 8, 540, 35, 194, 15, 24, 15756, 1, 5352, 65, 25, 13, 401, 15, 1266, 8080, 67, 13, 1, 5352, 28, 94, 2956, 6407, 2, 113, 103, 74, 55, 250, 238, 100, 20, 82, 2, 64, 106, 37, 16, 10, 270, 7, 77, 10, 1, 209, 450, 2901, 15, 975, 13, 13, 6, 91, 4, 971, 10, 1490, 13, 15, 91, 15756, 56, 37, 15, 26, 1254, 9, 6, 69, 14728, 10, 4, 1103, 399, 5, 41, 845, 75, 1, 5352, 2, 137, 36, 5, 30, 42, 9, 10065, 2833, 35, 4, 1737, 3, 141, 3, 23, 1, 144, 5, 269, 1047, 2, 1317, 5, 150, 4, 1364, 3, 24, 1, 1875, 944, 16362, 6, 21, 1, 7085, 1, 579, 46, 2, 60, 137, 238, 74, 9, 33, 6, 1, 489, 13, 64, 260, 5, 1711, 8, 37, 48, 18, 4, 302, 7, 11886, 271, 64, 918, 820, 1152, 67, 108, 944, 16362, 260, 5, 361, 107, 281, 18, 60, 407, 38, 4, 12752, 51, 7, 14, 5784, 5, 150, 107, 35, 64, 6, 286, 565, 5, 383, 36, 7, 1, 128, 944, 16362, 24, 4, 1283, 9061, 18, 2855, 815, 191, 3, 145, 8, 280, 3, 1513, 145, 8, 363, 40, 145, 8, 72, 235, 1, 302, 7, 352, 3, 117, 99, 64, 264, 33, 1151, 10, 1, 869, 2, 106, 233, 115, 5, 23, 4, 1037, 957, 2, 356, 36, 184, 267, 13, 24, 576, 21, 13, 132, 73, 47, 944, 16362, 102, 22, 141, 7, 1, 238, 64, 6, 5990, 5, 2, 24, 5, 30, 1743, 7, 75, 1, 5352, 184, 267, 64, 24, 106, 28, 238, 3, 278, 102, 23, 2902, 17, 22, 13, 22, 10, 4, 31, 3, 24, 68, 2489, 3, 102, 494, 8000, 49, 3, 24, 91, 538, 6781, 136, 2, 3, 6, 22, 828, 9, 1, 13837, 7, 3942, 3, 6, 142, 49, 1, 46, 3, 24, 419, 25, 1, 2224, 5, 121, 2, 2019, 5, 429, 238, 694, 17, 118, 102, 477, 2019, 80, 169, 1026, 38, 13, 1, 7, 3442, 28, 1248, 227, 10, 1427, 17, 80, 376, 59, 5112, 18, 944, 16362, 3, 6, 531, 5381, 36, 55, 169, 4867, 5, 10, 376, 4, 120, 2, 37, 3, 102, 99, 141, 55, 6, 1, 15231, 7, 3942, 64, 161, 226, 14, 803, 9, 4, 893, 2, 3308, 33, 27, 103, 15232, 13, 3, 531, 48, 9, 1, 615, 7, 60, 53, 147, 30, 4, 43, 189, 3442, 107, 1882, 7, 33, 6, 10, 69, 2132, 74, 18586, 100, 1, 3942, 674, 53, 442, 244, 39, 1055]\n"
     ]
    }
   ],
   "source": [
    "print(X_train[0]) # The words are converted to an index corresponding the word in the tokenizer"
   ]
  },
  {
   "cell_type": "code",
   "execution_count": 39,
   "metadata": {},
   "outputs": [
    {
     "data": {
      "text/plain": [
       "['from', 'my', 'hospital']"
      ]
     },
     "execution_count": 39,
     "metadata": {},
     "output_type": "execute_result"
    }
   ],
   "source": [
    "[tokenizer.index_word[x] for x in X_train[0][:3]]"
   ]
  },
  {
   "cell_type": "code",
   "execution_count": 41,
   "metadata": {},
   "outputs": [
    {
     "data": {
      "text/plain": [
       "[\"from my hospital feedback form n nwhile this was an unpleasant experience to say the least the worst part of it all was the way dr haslett treated me doctors on previous shifts introduced themselves discussed their plans and said goodbye before leaving the hospital however i did not meet dr haslett or find out what her plans for my case were until i asked to see her which is when more trouble began one of the night nurses had pointed out activity on the baby's heart rate monitor that she found worrisome and gave a basic explanation to my husband who was in the room once made aware of this my husband and i asked a few further questions but still didn't quite understand the situation its possible or etc based on the answers we were still alarmed and so asked if we could speak with the doctor about the monitor activity and what if anything could be done it took a very long time for dr haslett to arrive which in itself i could understand and when she did show up she didn't come into the room with a helpful let alone reassuring disposition but with the attitude that my husband and i had done something wrong in asking for her i don't know if the nurses had been offended or frustrated that we didn't understand the situation and then got dr haslett worked up through the manner in which they expressed our request to see the doctor but when dr haslett finally did arrive we were made to feel like children who had done something wrong and were now in trouble for it there was no pleasant introduction no inquiry as to how i was feeling not even a smile just a berating she asked things like you refused an internal monitor is that correct and when we tried to answer she interrupted raising her voice and repeating is that correct we explained that in fact no it was not correct one of the nurses had offered to change the monitor for my first to see whether that had any effect on the monitor and that is what we had accepted we were ready and willing to switch to an internal monitor if the problem persisted dr haslett then my husband for even looking at the monitor screens in spite of the fact that it was one of the nurses who initially brought his attention to it dr haslett made it clear to us that the monitors are not for you the patient to read you don't know how to read them it takes years of training to learn how to read these monitors training you don't have and even if you were trained they would still be difficult to read i wish none of these rooms had monitors etc and once we got past that scolding dr haslett made it seem as though we had doubted the nurses which at that point we hadn't reminding us that the nurses are well trained capable and know much more about these things than you do and she said all this in front of them in the same terrible tone we explained that that was never a matter in question that we never doubted their all we were hoping for was some clarification in a situation brought to our attention by the nurses and made out to be one for considerable concern as a patient i think i have the right to ask questions and request to see a doctor i had the impression dr haslett was on the defensive the entire time and what made things more for me was the fact that she decided to follow it all up with a kind of punishment once she finished basically telling us off dr haslett decided to end her visit with what felt like a threat or of my requesting to see her as she was getting ready to walk out of the room dr haslett had a mini debate with herself asking should i say it maybe i shouldn't say it i'll just say it because that's the kind of person i am then she looked me straight in the face and said you're going to have a c section and walked out everything else that had gone on that night even when dr haslett could not think of the things she was referring to and had to be reminded of by the nurses everything else she had said are things i probably could have handled but not that not in a place i had been assured i could expect kindness from i had never given birth before and i was not prepared for the prospect of surgery i was told from the time i had arrived at the hospital to try and relax to help things along but how could anyone relax after being treated like that the of labor are difficult enough in themselves but after such an interaction with dr haslett i was completely stressed out about being spoken to in such a way and all i could then think about was the certainty of surgery she took away my chance for a delivery and caused me so much distress that i completely up for the rest of what would still be a very long labor her treatment of me was in some ways more traumatic than the surgery itself would leave stars if possible\"]"
      ]
     },
     "execution_count": 41,
     "metadata": {},
     "output_type": "execute_result"
    }
   ],
   "source": [
    "tokenizer.sequences_to_texts([X_train[0]])"
   ]
  },
  {
   "cell_type": "code",
   "execution_count": 42,
   "metadata": {},
   "outputs": [
    {
     "data": {
      "text/plain": [
       "'From my hospital feedback form:\\\\n\\\\nWhile this was an unpleasant experience to say the least, the worst part of it all was the way Dr. Haslett treated me.  Doctors on previous shifts introduced themselves, discussed their plans and said goodbye before leaving the hospital.  However, I did not meet Dr'"
      ]
     },
     "execution_count": 42,
     "metadata": {},
     "output_type": "execute_result"
    }
   ],
   "source": [
    "train_reviews.iloc[0][:300]"
   ]
  },
  {
   "cell_type": "markdown",
   "metadata": {},
   "source": [
    "Some models and situations require us to pad our sequences to the same length. While that's not the case here, it can still be beneficial to have all our inputs (and consequently, our batches) to be of uniform size to help with optimizations."
   ]
  },
  {
   "cell_type": "code",
   "execution_count": 43,
   "metadata": {},
   "outputs": [],
   "source": [
    "MAX_REVIEW_LEN = 200\n",
    "X_train = keras.preprocessing.sequence.pad_sequences(X_train, maxlen=MAX_REVIEW_LEN)"
   ]
  },
  {
   "cell_type": "code",
   "execution_count": 44,
   "metadata": {},
   "outputs": [
    {
     "name": "stdout",
     "output_type": "stream",
     "text": [
      "[ 1037   957     2   356    36   184   267    13    24   576    21    13\n",
      "   132    73    47   944 16362   102    22   141     7     1   238    64\n",
      "     6  5990     5     2    24     5    30  1743     7    75     1  5352\n",
      "   184   267    64    24   106    28   238     3   278   102    23  2902\n",
      "    17    22    13    22    10     4    31     3    24    68  2489     3\n",
      "   102   494  8000    49     3    24    91   538  6781   136     2     3\n",
      "     6    22   828     9     1 13837     7  3942     3     6   142    49\n",
      "     1    46     3    24   419    25     1  2224     5   121     2  2019\n",
      "     5   429   238   694    17   118   102   477  2019    80   169  1026\n",
      "    38    13     1     7  3442    28  1248   227    10  1427    17    80\n",
      "   376    59  5112    18   944 16362     3     6   531  5381    36    55\n",
      "   169  4867     5    10   376     4   120     2    37     3   102    99\n",
      "   141    55     6     1 15231     7  3942    64   161   226    14   803\n",
      "     9     4   893     2  3308    33    27   103 15232    13     3   531\n",
      "    48     9     1   615     7    60    53   147    30     4    43   189\n",
      "  3442   107  1882     7    33     6    10    69  2132    74 18586   100\n",
      "     1  3942   674    53   442   244    39  1055]\n",
      "[    0     0     0     0     0     0     0     0     0     0     0     0\n",
      "     0     0     0     0     0     0     0     0     0     0     0     0\n",
      "     0     0     0     0     0     0     0     0     0     0     0     0\n",
      "     0     0     0     0     0     0     0     0     0     0     0     0\n",
      "     0     0     0     0     0     0     0     0     0     0     0     0\n",
      "     0     0     0     0     0     0     0     0     0     0     0     0\n",
      "     0     0     0     0     0     0     0     0     0     0     0     0\n",
      "     0     0     0     0     0     0     0     0     0     0     0     0\n",
      "     0     0     0     0     0     0     0     0     0     0     0     0\n",
      "     0     0     0     0     0     0     0     0     0     0     0     0\n",
      "     0     0     0     0     0     0     0     0     0     0     0     0\n",
      "     0     0     0     0     0     0     0     0     0     0     0     0\n",
      "     0     0     0     0     0     0     0     0     0     0     0     0\n",
      "     0     0     0     0     0     0     0     0     0     0     0     0\n",
      "     0     0     0     0     0     0     0    38    16    31  2281    17\n",
      "     3   141     1   133   619     5  5785     2     1  1955     4   208\n",
      "   855  1465     1   539 11887    26   122  1351]\n"
     ]
    }
   ],
   "source": [
    "print(X_train[0])\n",
    "print(X_train[1])"
   ]
  },
  {
   "cell_type": "code",
   "execution_count": 45,
   "metadata": {},
   "outputs": [],
   "source": [
    "X_val = tokenizer.texts_to_sequences(val_reviews)\n",
    "X_val = keras.preprocessing.sequence.pad_sequences(X_val, maxlen=MAX_REVIEW_LEN)"
   ]
  },
  {
   "cell_type": "markdown",
   "metadata": {},
   "source": [
    "We need to get the word vector from gensim into keras"
   ]
  },
  {
   "cell_type": "code",
   "execution_count": 46,
   "metadata": {},
   "outputs": [
    {
     "name": "stdout",
     "output_type": "stream",
     "text": [
      "34\n"
     ]
    }
   ],
   "source": [
    "print(tokenizer.word_index['good'])"
   ]
  },
  {
   "cell_type": "code",
   "execution_count": 47,
   "metadata": {},
   "outputs": [
    {
     "name": "stdout",
     "output_type": "stream",
     "text": [
      "[ 0.04052734  0.0625     -0.01745605  0.07861328  0.03271484 -0.01263428\n",
      "  0.00964355  0.12353516 -0.02148438  0.15234375 -0.05834961 -0.10644531\n",
      "  0.02124023  0.13574219 -0.13183594  0.17675781  0.27148438  0.13769531\n",
      " -0.17382812 -0.14160156 -0.03076172  0.19628906 -0.03295898  0.125\n",
      "  0.25390625  0.12695312 -0.15234375  0.03198242  0.01135254 -0.01361084\n",
      " -0.12890625  0.01019287  0.23925781 -0.08447266  0.140625    0.13085938\n",
      " -0.04516602  0.06494141  0.02539062  0.05615234  0.24609375 -0.20507812\n",
      "  0.23632812 -0.00860596 -0.02294922  0.05078125  0.10644531 -0.03564453\n",
      "  0.08740234 -0.05712891]\n"
     ]
    }
   ],
   "source": [
    "print(word_vectors['good'][:50])"
   ]
  },
  {
   "cell_type": "code",
   "execution_count": 50,
   "metadata": {},
   "outputs": [],
   "source": [
    "num_tokens = len(tokenizer.word_index) + 1\n",
    "\n",
    "embedding_dim = 300\n",
    "embedding_matrix = np.zeros((num_tokens, embedding_dim))\n",
    "\n",
    "for word, i in tokenizer.word_index.items():\n",
    "    if word_vectors.has_index_for(word):\n",
    "        embedding_matrix[i] = word_vectors[word].copy()"
   ]
  },
  {
   "cell_type": "code",
   "execution_count": 51,
   "metadata": {},
   "outputs": [
    {
     "name": "stdout",
     "output_type": "stream",
     "text": [
      "[ 0.04052734  0.0625     -0.01745605  0.07861328  0.03271484 -0.01263428\n",
      "  0.00964355  0.12353516 -0.02148438  0.15234375 -0.05834961 -0.10644531\n",
      "  0.02124023  0.13574219 -0.13183594  0.17675781  0.27148438  0.13769531\n",
      " -0.17382812 -0.14160156 -0.03076172  0.19628906 -0.03295898  0.125\n",
      "  0.25390625  0.12695312 -0.15234375  0.03198242  0.01135254 -0.01361084\n",
      " -0.12890625  0.01019287  0.23925781 -0.08447266  0.140625    0.13085938\n",
      " -0.04516602  0.06494141  0.02539062  0.05615234  0.24609375 -0.20507812\n",
      "  0.23632812 -0.00860596 -0.02294922  0.05078125  0.10644531 -0.03564453\n",
      "  0.08740234 -0.05712891]\n"
     ]
    }
   ],
   "source": [
    "print(embedding_matrix[tokenizer.word_index['good']][:50])"
   ]
  },
  {
   "cell_type": "code",
   "execution_count": 52,
   "metadata": {},
   "outputs": [],
   "source": [
    "embedding_layer = layers.Embedding(\n",
    "    num_tokens,\n",
    "    embedding_dim,\n",
    "    embeddings_initializer=keras.initializers.Constant(embedding_matrix),\n",
    "    input_length=MAX_REVIEW_LEN,\n",
    "    trainable=True\n",
    ")"
   ]
  },
  {
   "cell_type": "code",
   "execution_count": 53,
   "metadata": {},
   "outputs": [],
   "source": [
    "tf.random.set_seed(0)\n",
    "\n",
    "model = keras.Sequential()\n",
    "\n",
    "# This layer will output a sequence of 300-dimension *vectors*, one for each element in the input sequence.\n",
    "model.add(embedding_layer)\n",
    "\n",
    "# This layer will calculate an average of those vectors.\n",
    "model.add(layers.GlobalAveragePooling1D())\n",
    "\n",
    "model.add(layers.Dense(128, activation='relu', kernel_initializer=tf.keras.initializers.random_normal(seed=1)))\n",
    "model.add(layers.Dense(64, activation='relu', kernel_initializer=tf.keras.initializers.random_normal(seed=1)))\n",
    "model.add(layers.Dense(1, activation='sigmoid', kernel_initializer=tf.keras.initializers.random_normal(seed=1)))\n",
    "\n",
    "model.compile(optimizer='adam',\n",
    "              loss='binary_crossentropy',\n",
    "              metrics=['accuracy'])"
   ]
  },
  {
   "cell_type": "code",
   "execution_count": 54,
   "metadata": {},
   "outputs": [
    {
     "name": "stdout",
     "output_type": "stream",
     "text": [
      "Review: fantastic papaya steak\n",
      "Review as sequence of integers: [[543, 5844, 305]]\n",
      "Review embeddings shape: (Batch size: 1, Sequence length: 3, Embedding size: 300)\n",
      "Average of embeddings (shape): (1, 300)\n"
     ]
    }
   ],
   "source": [
    "review = \"fantastic papaya steak\"\n",
    "print(f\"Review: {review}\")\n",
    "\n",
    "review_sequence = tokenizer.texts_to_sequences([review])\n",
    "print(f\"Review as sequence of integers: {review_sequence}\")\n",
    "\n",
    "review_embeddings = embedding_layer(np.array(review_sequence))\n",
    "print(f\"Review embeddings shape: (Batch size: {review_embeddings.shape[0]}, \\\n",
    "Sequence length: {review_embeddings.shape[1]}, \\\n",
    "Embedding size: {review_embeddings.shape[2]})\")\n",
    "\n",
    "# How our document will be presented to the rest of the neural network.\n",
    "print(f\"Average of embeddings (shape): {np.mean(review_embeddings, axis=1).shape}\")"
   ]
  },
  {
   "cell_type": "code",
   "execution_count": 55,
   "metadata": {},
   "outputs": [
    {
     "name": "stdout",
     "output_type": "stream",
     "text": [
      "Model: \"sequential\"\n",
      "_________________________________________________________________\n",
      " Layer (type)                Output Shape              Param #   \n",
      "=================================================================\n",
      " embedding (Embedding)       (None, 200, 300)          28023900  \n",
      "                                                                 \n",
      " global_average_pooling1d (G  (None, 300)              0         \n",
      " lobalAveragePooling1D)                                          \n",
      "                                                                 \n",
      " dense (Dense)               (None, 128)               38528     \n",
      "                                                                 \n",
      " dense_1 (Dense)             (None, 64)                8256      \n",
      "                                                                 \n",
      " dense_2 (Dense)             (None, 1)                 65        \n",
      "                                                                 \n",
      "=================================================================\n",
      "Total params: 28,070,749\n",
      "Trainable params: 28,070,749\n",
      "Non-trainable params: 0\n",
      "_________________________________________________________________\n"
     ]
    }
   ],
   "source": [
    "model.summary()"
   ]
  },
  {
   "cell_type": "code",
   "execution_count": 56,
   "metadata": {},
   "outputs": [
    {
     "name": "stdout",
     "output_type": "stream",
     "text": [
      "Epoch 1/20\n",
      "167/167 [==============================] - 66s 389ms/step - loss: 0.3999 - accuracy: 0.8132 - val_loss: 0.2296 - val_accuracy: 0.9147\n",
      "Epoch 2/20\n",
      "167/167 [==============================] - 65s 390ms/step - loss: 0.1889 - accuracy: 0.9301 - val_loss: 0.2057 - val_accuracy: 0.9221\n",
      "Epoch 3/20\n",
      "167/167 [==============================] - 66s 392ms/step - loss: 0.1547 - accuracy: 0.9436 - val_loss: 0.1999 - val_accuracy: 0.9230\n",
      "Epoch 4/20\n",
      "167/167 [==============================] - 65s 387ms/step - loss: 0.1328 - accuracy: 0.9527 - val_loss: 0.2147 - val_accuracy: 0.9190\n",
      "Epoch 5/20\n",
      "167/167 [==============================] - 65s 386ms/step - loss: 0.1216 - accuracy: 0.9574 - val_loss: 0.2244 - val_accuracy: 0.9179\n",
      "Epoch 6/20\n",
      "167/167 [==============================] - 65s 390ms/step - loss: 0.1123 - accuracy: 0.9612 - val_loss: 0.2273 - val_accuracy: 0.9191\n",
      "Epoch 7/20\n",
      "167/167 [==============================] - 66s 395ms/step - loss: 0.1038 - accuracy: 0.9645 - val_loss: 0.2364 - val_accuracy: 0.9171\n",
      "Epoch 8/20\n",
      "167/167 [==============================] - 65s 389ms/step - loss: 0.0953 - accuracy: 0.9683 - val_loss: 0.2612 - val_accuracy: 0.9125\n",
      "Epoch 9/20\n",
      "167/167 [==============================] - 66s 396ms/step - loss: 0.0892 - accuracy: 0.9698 - val_loss: 0.2765 - val_accuracy: 0.9104\n",
      "Epoch 10/20\n",
      "167/167 [==============================] - 64s 384ms/step - loss: 0.0812 - accuracy: 0.9738 - val_loss: 0.2782 - val_accuracy: 0.9103\n",
      "Epoch 11/20\n",
      "167/167 [==============================] - 63s 376ms/step - loss: 0.0760 - accuracy: 0.9753 - val_loss: 0.3469 - val_accuracy: 0.8973\n",
      "Epoch 12/20\n",
      "167/167 [==============================] - 63s 375ms/step - loss: 0.0773 - accuracy: 0.9739 - val_loss: 0.4610 - val_accuracy: 0.8636\n",
      "Epoch 13/20\n",
      "167/167 [==============================] - 63s 376ms/step - loss: 0.0823 - accuracy: 0.9724 - val_loss: 0.3134 - val_accuracy: 0.9098\n",
      "Epoch 14/20\n",
      "167/167 [==============================] - 63s 378ms/step - loss: 0.0644 - accuracy: 0.9799 - val_loss: 0.3330 - val_accuracy: 0.9084\n",
      "Epoch 15/20\n",
      "167/167 [==============================] - 63s 376ms/step - loss: 0.0688 - accuracy: 0.9768 - val_loss: 0.3547 - val_accuracy: 0.9041\n",
      "Epoch 16/20\n",
      "167/167 [==============================] - 63s 375ms/step - loss: 0.0585 - accuracy: 0.9810 - val_loss: 0.3569 - val_accuracy: 0.9073\n",
      "Epoch 17/20\n",
      "167/167 [==============================] - 63s 375ms/step - loss: 0.0536 - accuracy: 0.9818 - val_loss: 0.3834 - val_accuracy: 0.9057\n",
      "Epoch 18/20\n",
      "167/167 [==============================] - 63s 375ms/step - loss: 0.0472 - accuracy: 0.9845 - val_loss: 0.5001 - val_accuracy: 0.8859\n",
      "Epoch 19/20\n",
      "167/167 [==============================] - 63s 376ms/step - loss: 0.0471 - accuracy: 0.9838 - val_loss: 0.4795 - val_accuracy: 0.8939\n",
      "Epoch 20/20\n",
      "167/167 [==============================] - 63s 375ms/step - loss: 0.0482 - accuracy: 0.9820 - val_loss: 0.4772 - val_accuracy: 0.9067\n"
     ]
    }
   ],
   "source": [
    "history = model.fit(X_train, y_train, epochs=20, batch_size=512, validation_data=(X_val, y_val))"
   ]
  },
  {
   "cell_type": "code",
   "execution_count": 57,
   "metadata": {},
   "outputs": [],
   "source": [
    "def plot_train_vs_val_performance(history):\n",
    "  training_losses = history.history['loss']\n",
    "  validation_losses = history.history['val_loss']\n",
    "\n",
    "  training_accuracy = history.history['accuracy']\n",
    "  validation_accuracy = history.history['val_accuracy']\n",
    "\n",
    "  epochs = range(1, len(training_losses) + 1)\n",
    "\n",
    "  import matplotlib.pyplot as plt\n",
    "  fig, (ax1, ax2) = plt.subplots(2)\n",
    "  fig.set_figheight(15)\n",
    "  fig.set_figwidth(15)\n",
    "  fig.tight_layout(pad=5.0)\n",
    "\n",
    "  # Plot training vs. validation loss.\n",
    "  ax1.plot(epochs, training_losses, 'bo', label='Training Loss')\n",
    "  ax1.plot(epochs, validation_losses, 'b', label='Validation Loss')\n",
    "  ax1.title.set_text('Training vs. Validation Loss')\n",
    "  ax1.set_xlabel('Epoch')\n",
    "  ax1.set_ylabel('Loss')\n",
    "  ax1.legend()\n",
    "\n",
    "  # PLot training vs. validation accuracy.\n",
    "  ax2.plot(epochs, training_accuracy, 'bo', label='Training Accuracy')\n",
    "  ax2.plot(epochs, validation_accuracy, 'b', label='Validation Accuracy')\n",
    "  ax2.title.set_text('Training vs. Validation Accuracy')\n",
    "  ax2.set_xlabel('Epoch')\n",
    "  ax2.set_ylabel('Accuracy')\n",
    "  ax2.legend()\n",
    "\n",
    "  plt.show()"
   ]
  },
  {
   "cell_type": "code",
   "execution_count": 58,
   "metadata": {},
   "outputs": [
    {
     "data": {
      "image/png": "[encoded data removed]",
      "text/plain": [
       "<Figure size 1080x1080 with 2 Axes>"
      ]
     },
     "metadata": {
      "needs_background": "light"
     },
     "output_type": "display_data"
    }
   ],
   "source": [
    "plot_train_vs_val_performance(history)"
   ]
  },
  {
   "cell_type": "code",
   "execution_count": 59,
   "metadata": {},
   "outputs": [
    {
     "name": "stdout",
     "output_type": "stream",
     "text": [
      "Epoch 1/3\n",
      "167/167 [==============================] - 67s 394ms/step - loss: 0.3617 - accuracy: 0.8389 - val_loss: 0.2219 - val_accuracy: 0.9169\n",
      "Epoch 2/3\n",
      "167/167 [==============================] - 65s 392ms/step - loss: 0.1822 - accuracy: 0.9325 - val_loss: 0.2034 - val_accuracy: 0.9223\n",
      "Epoch 3/3\n",
      "167/167 [==============================] - 64s 382ms/step - loss: 0.1482 - accuracy: 0.9453 - val_loss: 0.1980 - val_accuracy: 0.9234\n"
     ]
    },
    {
     "data": {
      "text/plain": [
       "<keras.callbacks.History at 0x2a1e06fb130>"
      ]
     },
     "execution_count": 59,
     "metadata": {},
     "output_type": "execute_result"
    }
   ],
   "source": [
    "# Training till epoch 3\n",
    "\n",
    "embedding_layer = layers.Embedding(\n",
    "    num_tokens,\n",
    "    embedding_dim,\n",
    "    embeddings_initializer=keras.initializers.Constant(embedding_matrix),\n",
    "    input_length=MAX_REVIEW_LEN,\n",
    "    trainable=True\n",
    ")\n",
    "\n",
    "model = keras.Sequential()\n",
    "model.add(embedding_layer)\n",
    "model.add(layers.GlobalAveragePooling1D())\n",
    "model.add(layers.Dense(128, activation='relu'))\n",
    "model.add(layers.Dense(64, activation='relu'))\n",
    "model.add(layers.Dense(1, activation='sigmoid'))\n",
    "\n",
    "model.compile(optimizer='adam',\n",
    "              loss='binary_crossentropy',\n",
    "              metrics=['accuracy'])\n",
    "\n",
    "model.fit(X_train, y_train, epochs=3, batch_size=512, validation_data=(X_val, y_val))"
   ]
  },
  {
   "cell_type": "code",
   "execution_count": 60,
   "metadata": {},
   "outputs": [],
   "source": [
    "yelp_test = pd.read_csv('./data/yelp_review_polarity_csv/test.csv', names=['sentiment', 'review'])"
   ]
  },
  {
   "cell_type": "code",
   "execution_count": 61,
   "metadata": {},
   "outputs": [
    {
     "data": {
      "text/html": [
       "<div>\n",
       "<style scoped>\n",
       "    .dataframe tbody tr th:only-of-type {\n",
       "        vertical-align: middle;\n",
       "    }\n",
       "\n",
       "    .dataframe tbody tr th {\n",
       "        vertical-align: top;\n",
       "    }\n",
       "\n",
       "    .dataframe thead th {\n",
       "        text-align: right;\n",
       "    }\n",
       "</style>\n",
       "<table border=\"1\" class=\"dataframe\">\n",
       "  <thead>\n",
       "    <tr style=\"text-align: right;\">\n",
       "      <th></th>\n",
       "      <th>sentiment</th>\n",
       "      <th>review</th>\n",
       "    </tr>\n",
       "  </thead>\n",
       "  <tbody>\n",
       "    <tr>\n",
       "      <th>0</th>\n",
       "      <td>1</td>\n",
       "      <td>Contrary to other reviews, I have zero complai...</td>\n",
       "    </tr>\n",
       "    <tr>\n",
       "      <th>1</th>\n",
       "      <td>0</td>\n",
       "      <td>Last summer I had an appointment to get new ti...</td>\n",
       "    </tr>\n",
       "    <tr>\n",
       "      <th>2</th>\n",
       "      <td>1</td>\n",
       "      <td>Friendly staff, same starbucks fair you get an...</td>\n",
       "    </tr>\n",
       "    <tr>\n",
       "      <th>3</th>\n",
       "      <td>0</td>\n",
       "      <td>The food is good. Unfortunately the service is...</td>\n",
       "    </tr>\n",
       "    <tr>\n",
       "      <th>4</th>\n",
       "      <td>1</td>\n",
       "      <td>Even when we didn't have a car Filene's Baseme...</td>\n",
       "    </tr>\n",
       "  </tbody>\n",
       "</table>\n",
       "</div>"
      ],
      "text/plain": [
       "   sentiment                                             review\n",
       "0          1  Contrary to other reviews, I have zero complai...\n",
       "1          0  Last summer I had an appointment to get new ti...\n",
       "2          1  Friendly staff, same starbucks fair you get an...\n",
       "3          0  The food is good. Unfortunately the service is...\n",
       "4          1  Even when we didn't have a car Filene's Baseme..."
      ]
     },
     "execution_count": 61,
     "metadata": {},
     "output_type": "execute_result"
    }
   ],
   "source": [
    "yelp_test['sentiment'].replace(to_replace=1, value=0, inplace=True)\n",
    "yelp_test['sentiment'].replace(to_replace=2, value=1, inplace=True)\n",
    "yelp_test.head()"
   ]
  },
  {
   "cell_type": "code",
   "execution_count": 62,
   "metadata": {},
   "outputs": [
    {
     "name": "stdout",
     "output_type": "stream",
     "text": [
      "[1 0 1 ... 0 0 0]\n"
     ]
    }
   ],
   "source": [
    "y_test = np.array(yelp_test['sentiment'])\n",
    "print(y_test)"
   ]
  },
  {
   "cell_type": "code",
   "execution_count": 63,
   "metadata": {},
   "outputs": [],
   "source": [
    "X_test = tokenizer.texts_to_sequences(yelp_test['review'])"
   ]
  },
  {
   "cell_type": "code",
   "execution_count": 64,
   "metadata": {},
   "outputs": [],
   "source": [
    "X_test = keras.preprocessing.sequence.pad_sequences(X_test, maxlen=MAX_REVIEW_LEN)"
   ]
  },
  {
   "cell_type": "code",
   "execution_count": 65,
   "metadata": {},
   "outputs": [
    {
     "name": "stdout",
     "output_type": "stream",
     "text": [
      "1188/1188 [==============================] - 5s 5ms/step - loss: 0.1876 - accuracy: 0.9291\n"
     ]
    },
    {
     "data": {
      "text/plain": [
       "[0.187555730342865, 0.9291315674781799]"
      ]
     },
     "execution_count": 65,
     "metadata": {},
     "output_type": "execute_result"
    }
   ],
   "source": [
    "model.evaluate(X_test, y_test)"
   ]
  },
  {
   "cell_type": "code",
   "execution_count": 66,
   "metadata": {},
   "outputs": [],
   "source": [
    "def sentiment(reviews):\n",
    "  seqs = tokenizer.texts_to_sequences(reviews)\n",
    "  seqs = keras.preprocessing.sequence.pad_sequences(seqs, maxlen=MAX_REVIEW_LEN)\n",
    "  return model.predict(seqs)"
   ]
  },
  {
   "cell_type": "code",
   "execution_count": 67,
   "metadata": {},
   "outputs": [],
   "source": [
    "pos_review = \"The best seafood joint in East Village San Diego!  Great lobster roll, great fish, great oysters, great bread, great cocktails, and such amazing service.  The atmosphere is top notch and the location is so much fun being located just a block away from Petco Park (San Diego Padres Stadium).\"\n",
    "neg_review = \"A thoroughly disappointing experience. When you book a Marriott you expect a certain standard. Albany falls way short. Room cleaning has to be booked 24 hours in advance but nobody thought to mention this at check in. The hotel is tired and needs a face-lift. The only bright light in a sea of mediocrity were the pancakes at breakfast. Sadly they weren't enough to save the experience. If you travel to Albany, then do yourself a big favour and book the Westin.\""
   ]
  },
  {
   "cell_type": "code",
   "execution_count": 68,
   "metadata": {},
   "outputs": [
    {
     "name": "stdout",
     "output_type": "stream",
     "text": [
      "1/1 [==============================] - 0s 97ms/step\n",
      "[[0.99970126]\n",
      " [0.00714538]]\n"
     ]
    }
   ],
   "source": [
    "print(sentiment([pos_review, neg_review]))"
   ]
  },
  {
   "cell_type": "markdown",
   "metadata": {},
   "source": [
    "## Not using pre-trained embeddings"
   ]
  },
  {
   "cell_type": "code",
   "execution_count": 69,
   "metadata": {},
   "outputs": [
    {
     "name": "stdout",
     "output_type": "stream",
     "text": [
      "Epoch 1/20\n",
      "167/167 [==============================] - 66s 389ms/step - loss: 0.4294 - accuracy: 0.7795 - val_loss: 0.2252 - val_accuracy: 0.9139\n",
      "Epoch 2/20\n",
      "167/167 [==============================] - 65s 387ms/step - loss: 0.1847 - accuracy: 0.9304 - val_loss: 0.2103 - val_accuracy: 0.9166\n",
      "Epoch 3/20\n",
      "167/167 [==============================] - 65s 389ms/step - loss: 0.1502 - accuracy: 0.9457 - val_loss: 0.2029 - val_accuracy: 0.9215\n",
      "Epoch 4/20\n",
      "167/167 [==============================] - 66s 395ms/step - loss: 0.1312 - accuracy: 0.9534 - val_loss: 0.2126 - val_accuracy: 0.9204\n",
      "Epoch 5/20\n",
      "167/167 [==============================] - 67s 400ms/step - loss: 0.1199 - accuracy: 0.9583 - val_loss: 0.2254 - val_accuracy: 0.9169\n",
      "Epoch 6/20\n",
      "167/167 [==============================] - 67s 403ms/step - loss: 0.1101 - accuracy: 0.9619 - val_loss: 0.2313 - val_accuracy: 0.9187\n"
     ]
    }
   ],
   "source": [
    "tf.random.set_seed(0)\n",
    "\n",
    "model = keras.Sequential()\n",
    "\n",
    "# The 'trainable' property is True by default.\n",
    "model.add(layers.Embedding(input_dim=num_tokens, \n",
    "                           output_dim=embedding_dim, \n",
    "                           input_length=MAX_REVIEW_LEN))\n",
    "\n",
    "\n",
    "model.add(layers.GlobalAveragePooling1D())\n",
    "model.add(layers.Dense(128, activation='relu', kernel_initializer=tf.keras.initializers.random_normal(seed=1)))\n",
    "model.add(layers.Dense(64, activation='relu', kernel_initializer=tf.keras.initializers.random_normal(seed=1)))\n",
    "model.add(layers.Dense(1, activation='sigmoid', kernel_initializer=tf.keras.initializers.random_normal(seed=1)))\n",
    "\n",
    "model.compile(optimizer='adam',\n",
    "              loss='binary_crossentropy',\n",
    "              metrics=['accuracy'])\n",
    "\n",
    "es_callback = keras.callbacks.EarlyStopping(monitor='val_loss', patience=3)\n",
    "history = model.fit(X_train, y_train, epochs=20, batch_size=512, validation_data=(X_val, y_val), callbacks=[es_callback])"
   ]
  },
  {
   "cell_type": "code",
   "execution_count": 70,
   "metadata": {},
   "outputs": [
    {
     "name": "stdout",
     "output_type": "stream",
     "text": [
      "1188/1188 [==============================] - 6s 5ms/step - loss: 0.2170 - accuracy: 0.9216\n"
     ]
    },
    {
     "data": {
      "text/plain": [
       "[0.21700069308280945, 0.9215526580810547]"
      ]
     },
     "execution_count": 70,
     "metadata": {},
     "output_type": "execute_result"
    }
   ],
   "source": [
    "model.evaluate(X_test, y_test)"
   ]
  },
  {
   "cell_type": "code",
   "execution_count": 71,
   "metadata": {},
   "outputs": [
    {
     "name": "stdout",
     "output_type": "stream",
     "text": [
      "Epoch 1/20\n",
      "167/167 [==============================] - 9s 49ms/step - loss: 0.4895 - accuracy: 0.7720 - val_loss: 0.3610 - val_accuracy: 0.8630\n",
      "Epoch 2/20\n",
      "167/167 [==============================] - 8s 48ms/step - loss: 0.3312 - accuracy: 0.8707 - val_loss: 0.3488 - val_accuracy: 0.8682\n",
      "Epoch 3/20\n",
      "167/167 [==============================] - 8s 48ms/step - loss: 0.3128 - accuracy: 0.8767 - val_loss: 0.3153 - val_accuracy: 0.8790\n",
      "Epoch 4/20\n",
      "167/167 [==============================] - 8s 48ms/step - loss: 0.2997 - accuracy: 0.8809 - val_loss: 0.3684 - val_accuracy: 0.8575\n",
      "Epoch 5/20\n",
      "167/167 [==============================] - 8s 48ms/step - loss: 0.2970 - accuracy: 0.8808 - val_loss: 0.3076 - val_accuracy: 0.8752\n",
      "Epoch 6/20\n",
      "167/167 [==============================] - 8s 48ms/step - loss: 0.2902 - accuracy: 0.8830 - val_loss: 0.3064 - val_accuracy: 0.8782\n",
      "Epoch 7/20\n",
      "167/167 [==============================] - 8s 48ms/step - loss: 0.2863 - accuracy: 0.8830 - val_loss: 0.2880 - val_accuracy: 0.8815\n",
      "Epoch 8/20\n",
      "167/167 [==============================] - 8s 48ms/step - loss: 0.2759 - accuracy: 0.8859 - val_loss: 0.2889 - val_accuracy: 0.8780\n",
      "Epoch 9/20\n",
      "167/167 [==============================] - 8s 48ms/step - loss: 0.2738 - accuracy: 0.8853 - val_loss: 0.2779 - val_accuracy: 0.8828\n",
      "Epoch 10/20\n",
      "167/167 [==============================] - 8s 48ms/step - loss: 0.2691 - accuracy: 0.8862 - val_loss: 0.2743 - val_accuracy: 0.8841\n",
      "Epoch 11/20\n",
      "167/167 [==============================] - 8s 48ms/step - loss: 0.2668 - accuracy: 0.8876 - val_loss: 0.2757 - val_accuracy: 0.8836\n",
      "Epoch 12/20\n",
      "167/167 [==============================] - 8s 48ms/step - loss: 0.2651 - accuracy: 0.8882 - val_loss: 0.2707 - val_accuracy: 0.8865\n",
      "Epoch 13/20\n",
      "167/167 [==============================] - 8s 48ms/step - loss: 0.2638 - accuracy: 0.8885 - val_loss: 0.2711 - val_accuracy: 0.8851\n",
      "Epoch 14/20\n",
      "167/167 [==============================] - 8s 48ms/step - loss: 0.2627 - accuracy: 0.8890 - val_loss: 0.2743 - val_accuracy: 0.8847\n",
      "Epoch 15/20\n",
      "167/167 [==============================] - 8s 48ms/step - loss: 0.2616 - accuracy: 0.8889 - val_loss: 0.2773 - val_accuracy: 0.8806\n",
      "Epoch 16/20\n",
      "167/167 [==============================] - 8s 48ms/step - loss: 0.2618 - accuracy: 0.8890 - val_loss: 0.2941 - val_accuracy: 0.8769\n",
      "Epoch 17/20\n",
      "167/167 [==============================] - 8s 48ms/step - loss: 0.2605 - accuracy: 0.8894 - val_loss: 0.2666 - val_accuracy: 0.8867\n",
      "Epoch 18/20\n",
      "167/167 [==============================] - 8s 47ms/step - loss: 0.2571 - accuracy: 0.8909 - val_loss: 0.2673 - val_accuracy: 0.8888\n",
      "Epoch 19/20\n",
      "167/167 [==============================] - 8s 46ms/step - loss: 0.2559 - accuracy: 0.8920 - val_loss: 0.2663 - val_accuracy: 0.8873\n",
      "Epoch 20/20\n",
      "167/167 [==============================] - 8s 46ms/step - loss: 0.2563 - accuracy: 0.8910 - val_loss: 0.2727 - val_accuracy: 0.8831\n"
     ]
    }
   ],
   "source": [
    "embedding_layer = layers.Embedding(\n",
    "    num_tokens,\n",
    "    embedding_dim,\n",
    "    embeddings_initializer=keras.initializers.Constant(embedding_matrix),\n",
    "    input_length=MAX_REVIEW_LEN,\n",
    "    trainable=False\n",
    ")\n",
    "\n",
    "model = keras.Sequential()\n",
    "model.add(embedding_layer)\n",
    "model.add(layers.GlobalAveragePooling1D())\n",
    "model.add(layers.Dense(128, activation='relu'))\n",
    "model.add(layers.Dense(64, activation='relu'))\n",
    "model.add(layers.Dense(1, activation='sigmoid'))\n",
    "\n",
    "model.compile(optimizer='adam',\n",
    "              loss='binary_crossentropy',\n",
    "              metrics=['accuracy'])\n",
    "\n",
    "history = model.fit(X_train, y_train, epochs=20, batch_size=512, validation_data=(X_val, y_val))"
   ]
  },
  {
   "cell_type": "code",
   "execution_count": 72,
   "metadata": {},
   "outputs": [
    {
     "data": {
      "image/png": "[encoded data removed]",
      "text/plain": [
       "<Figure size 1080x1080 with 2 Axes>"
      ]
     },
     "metadata": {
      "needs_background": "light"
     },
     "output_type": "display_data"
    }
   ],
   "source": [
    "plot_train_vs_val_performance(history)"
   ]
  },
  {
   "cell_type": "code",
   "execution_count": 73,
   "metadata": {},
   "outputs": [
    {
     "name": "stdout",
     "output_type": "stream",
     "text": [
      "1188/1188 [==============================] - 5s 4ms/step - loss: 0.2609 - accuracy: 0.8892\n"
     ]
    },
    {
     "data": {
      "text/plain": [
       "[0.2608715891838074, 0.8892368674278259]"
      ]
     },
     "execution_count": 73,
     "metadata": {},
     "output_type": "execute_result"
    }
   ],
   "source": [
    "model.evaluate(X_test, y_test)"
   ]
  },
  {
   "cell_type": "code",
   "execution_count": null,
   "metadata": {},
   "outputs": [],
   "source": []
  }
 ],
 "metadata": {
  "kernelspec": {
   "display_name": "Python 3",
   "language": "python",
   "name": "python3"
  },
  "language_info": {
   "codemirror_mode": {
    "name": "ipython",
    "version": 3
   },
   "file_extension": ".py",
   "mimetype": "text/x-python",
   "name": "python",
   "nbconvert_exporter": "python",
   "pygments_lexer": "ipython3",
   "version": "3.9.10"
  }
 },
 "nbformat": 4,
 "nbformat_minor": 2
}
